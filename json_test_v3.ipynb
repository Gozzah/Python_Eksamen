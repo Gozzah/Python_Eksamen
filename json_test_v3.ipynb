{
 "cells": [
  {
   "cell_type": "code",
   "execution_count": 43,
   "metadata": {
    "scrolled": false
   },
   "outputs": [],
   "source": [
    "import urllib.request, json \n",
    "import json\n",
    "import numpy as np\n",
    "import pycountry as pc"
   ]
  },
  {
   "cell_type": "code",
   "execution_count": 125,
   "metadata": {},
   "outputs": [],
   "source": [
    "with urllib.request.urlopen(\"http://api.population.io:80/1.0/countries\") as url:\n",
    "    slash = \"/\"\n",
    "    data = json.loads(url.read().decode())\n",
    "    twoD_data = np.array(list(data.values()))  # Turns the dictionary into a 2D array\n",
    "    all_countries = twoD_data.ravel()\n",
    "    cleancountry = [] \n",
    "\n",
    "    for word in all_countries:\n",
    "        if '/' not in word:\n",
    "            cleancountry.append(word)\n",
    "            \n",
    "            #print(newcountry)\n",
    "    \n",
    "    \n",
    "\n",
    "#print(cleancountry)\n",
    "    \n",
    "    # Using ravel to flatten the 2D array into a normal array\n",
    "   # print( all_countries)"
   ]
  },
  {
   "cell_type": "code",
   "execution_count": 126,
   "metadata": {},
   "outputs": [],
   "source": [
    "input_countries =  cleancountry\n",
    "\n",
    "countries = {}\n",
    "for country in pc.countries:\n",
    "    countries[country.name] = country.alpha2\n",
    "\n",
    "countryCodes = [countries.get(country, 'Unknown code') for country in input_countries]\n",
    "\n",
    "#print (countryCodes)"
   ]
  },
  {
   "cell_type": "code",
   "execution_count": 127,
   "metadata": {},
   "outputs": [
    {
     "name": "stdout",
     "output_type": "stream",
     "text": [
      "['Afghanistan', {'total_population': {'date': '2015-12-24', 'population': 32938535}}, 'AFRICA', {'total_population': {'date': '2015-12-24', 'population': 1200511894}}, 'Albania', {'total_population': {'date': '2015-12-24', 'population': 2899959}}, 'Algeria', {'total_population': {'date': '2015-12-24', 'population': 40010891}}, 'Angola', {'total_population': {'date': '2015-12-24', 'population': 25408432}}, 'Antigua%20and%20Barbuda', {'total_population': {'date': '2015-12-24', 'population': 92259}}, 'Arab%20Rep%20of%20Egypt', {'total_population': {'date': '2015-12-24', 'population': 92415117}}, 'Argentina', {'total_population': {'date': '2015-12-24', 'population': 43624061}}, 'Armenia', {'total_population': {'date': '2015-12-24', 'population': 3022093}}, 'Aruba', {'total_population': {'date': '2015-12-24', 'population': 104077}}, 'ASIA', {'total_population': {'date': '2015-12-24', 'population': 706627200454182545154016881623571098126188297901486451470738934396834129702380459107509256217222868557894548496889194104636099924809210451951630364208728801501571438541900049483624227178110490829234241652767798430075278410691805091775643648}}, 'Australia', {'total_population': {'date': '2015-12-24', 'population': 24133310}}, 'Austria', {'total_population': {'date': '2015-12-24', 'population': 8556757}}, 'Azerbaijan', {'total_population': {'date': '2015-12-24', 'population': 9810133}}, 'The%20Bahamas', {'total_population': {'date': '2015-12-24', 'population': 390314}}, 'Bahrain', {'total_population': {'date': '2015-12-24', 'population': 1386228}}, 'Bangladesh', {'total_population': {'date': '2015-12-24', 'population': 161915747}}, 'Barbados', {'total_population': {'date': '2015-12-24', 'population': 284601}}, 'Belarus', {'total_population': {'date': '2015-12-24', 'population': 9490103}}, 'Belgium', {'total_population': {'date': '2015-12-24', 'population': 11334060}}, 'Belize', {'total_population': {'date': '2015-12-24', 'population': 362956}}, 'Benin', {'total_population': {'date': '2015-12-24', 'population': 11016919}}, 'Bhutan', {'total_population': {'date': '2015-12-24', 'population': 779358}}, 'Bolivia', {'total_population': {'date': '2015-12-24', 'population': 10803264}}, 'Bosnia%20and%20Herzegovina', {'total_population': {'date': '2015-12-24', 'population': 3806585}}, 'Botswana', {'total_population': {'date': '2015-12-24', 'population': 2282511}}, 'Brazil', {'total_population': {'date': '2015-12-24', 'population': 208679204}}, 'Brunei%20Darussalam', {'total_population': {'date': '2015-12-24', 'population': 425933}}, 'Bulgaria', {'total_population': {'date': '2015-12-24', 'population': 7124887}}, 'Burkina%20Faso', {'total_population': {'date': '2015-12-24', 'population': 18357785}}, 'Burundi', {'total_population': {'date': '2015-12-24', 'population': 11356909}}, 'Cote-d-Ivoire', {'total_population': {'date': '2015-12-24', 'population': 22965755}}, 'Cabo%20Verde', {'total_population': {'date': '2015-12-24', 'population': 523632}}, 'Cambodia', {'total_population': {'date': '2015-12-24', 'population': 15697874}}, 'Cameroon', {'total_population': {'date': '2015-12-24', 'population': 23621713}}, 'Canada', {'total_population': {'date': '2015-12-24', 'population': 36106889}}, 'Caribbean', {'total_population': {'date': '2015-12-24', 'population': 43339433}}, 'Central%20African%20Republic', {'total_population': {'date': '2015-12-24', 'population': 4947132}}, 'Central%20America', {'total_population': {'date': '2015-12-24', 'population': 173830488}}, 'Central%20Asia', {'total_population': {'date': '2015-12-24', 'population': 67792405}}, 'Chad', {'total_population': {'date': '2015-12-24', 'population': 14256779}}, 'Channel%20Islands', {'total_population': {'date': '2015-12-24', 'population': 164062}}, 'Chile', {'total_population': {'date': '2015-12-24', 'population': 18036261}}, 'China', {'total_population': {'date': '2015-12-24', 'population': 1379107616}}, 'Hong%20Kong%20SAR-China', {'total_population': {'date': '2015-12-24', 'population': 7316195}}, 'Macao%20SAR%20China', {'total_population': {'date': '2015-12-24', 'population': 592209}}, 'Colombia', {'total_population': {'date': '2015-12-24', 'population': 48434731}}, 'Comoros', {'total_population': {'date': '2015-12-24', 'population': 797411}}, 'Congo', {'total_population': {'date': '2015-12-24', 'population': 4677674}}, 'Costa%20Rica', {'total_population': {'date': '2015-12-24', 'population': 4831697}}, 'Croatia', {'total_population': {'date': '2015-12-24', 'population': 4232900}}, 'Cuba', {'total_population': {'date': '2015-12-24', 'population': 11391788}}, 'Curacao', {'total_population': {'date': '2015-12-24', 'population': 157894}}, 'Cyprus', {'total_population': {'date': '2015-12-24', 'population': 1170773}}, 'Czech%20Republic', {'total_population': {'date': '2015-12-24', 'population': 10545112}}, 'Dem%20Peoples%20Rep%20of%20Korea', {'total_population': {'date': '2015-12-24', 'population': 25216030}}, 'Dem%20Rep%20of%20Congo', {'total_population': {'date': '2015-12-24', 'population': 78437688}}, 'Denmark', {'total_population': {'date': '2015-12-24', 'population': 5679647}}, 'Djibouti', {'total_population': {'date': '2015-12-24', 'population': 893494}}, 'Dominican%20Republic', {'total_population': {'date': '2015-12-24', 'population': 10586203}}, 'Eastern%20Africa', {'total_population': {'date': '2015-12-24', 'population': 399736843}}, 'Eastern%20Asia', {'total_population': {'date': '2015-12-24', 'population': 1615450834}}, 'Eastern%20Europe', {'total_population': {'date': '2015-12-24', 'population': 292725723}}, 'Ecuador', {'total_population': {'date': '2015-12-24', 'population': 16260286}}, 'El%20Salvador', {'total_population': {'date': '2015-12-24', 'population': 6135984}}, 'Equatorial%20Guinea', {'total_population': {'date': '2015-12-24', 'population': 856797}}, 'Eritrea', {'total_population': {'date': '2015-12-24', 'population': 5286522}}, 'Estonia', {'total_population': {'date': '2015-12-24', 'population': 1310873}}, 'Ethiopia', {'total_population': {'date': '2015-12-24', 'population': 100570004}}, 'EUROPE', {'total_population': {'date': '2015-12-24', 'population': 738632004}}, 'Federated%20States%20of%20Micronesia', {'total_population': {'date': '2015-12-24', 'population': 104691}}, 'Fiji', {'total_population': {'date': '2015-12-24', 'population': 894788}}, 'Finland', {'total_population': {'date': '2015-12-24', 'population': 5513675}}, 'France', {'total_population': {'date': '2015-12-24', 'population': 64524519}}, 'French%20Guiana', {'total_population': {'date': '2015-12-24', 'population': 272016}}, 'French%20Polynesia', {'total_population': {'date': '2015-12-24', 'population': 284185}}, 'FYR%20Macedonia', {'total_population': {'date': '2015-12-24', 'population': 2080016}}, 'Gabon', {'total_population': {'date': '2015-12-24', 'population': 1743454}}, 'The%20Gambia', {'total_population': {'date': '2015-12-24', 'population': 2021510}}, 'Georgia', {'total_population': {'date': '2015-12-24', 'population': 3988368}}, 'Germany', {'total_population': {'date': '2015-12-24', 'population': 80689241}}, 'Ghana', {'total_population': {'date': '2015-12-24', 'population': 27709438}}, 'Greece', {'total_population': {'date': '2015-12-24', 'population': 10936288}}, 'Grenada', {'total_population': {'date': '2015-12-24', 'population': 107064}}, 'Guadeloupe', {'total_population': {'date': '2015-12-24', 'population': 469473}}, 'Guam', {'total_population': {'date': '2015-12-24', 'population': 170961}}, 'Guatemala', {'total_population': {'date': '2015-12-24', 'population': 16501118}}, 'Guinea', {'total_population': {'date': '2015-12-24', 'population': 12770525}}, 'Guinea-Bissau', {'total_population': {'date': '2015-12-24', 'population': 1865462}}, 'Guyana', {'total_population': {'date': '2015-12-24', 'population': 768718}}, 'Haiti', {'total_population': {'date': '2015-12-24', 'population': 10777224}}, 'Honduras', {'total_population': {'date': '2015-12-24', 'population': 8129937}}, 'Hungary', {'total_population': {'date': '2015-12-24', 'population': 9838587}}, 'Iceland', {'total_population': {'date': '2015-12-24', 'population': 330532}}, 'India', {'total_population': {'date': '2015-12-24', 'population': 1318625103}}, 'Indonesia', {'total_population': {'date': '2015-12-24', 'population': 259024971}}, 'Islamic%20Republic%20of%20Iran', {'total_population': {'date': '2015-12-24', 'population': 79562971}}, 'Iraq', {'total_population': {'date': '2015-12-24', 'population': 36966521}}, 'Ireland', {'total_population': {'date': '2015-12-24', 'population': 4699328}}, 'Israel', {'total_population': {'date': '2015-12-24', 'population': 8125272}}, 'Italy', {'total_population': {'date': '2015-12-24', 'population': 59797732}}, 'Jamaica', {'total_population': {'date': '2015-12-24', 'population': 2798107}}, 'Japan', {'total_population': {'date': '2015-12-24', 'population': 126452644}}, 'Jordan', {'total_population': {'date': '2015-12-24', 'population': 7671395}}, 'Kazakhstan', {'total_population': {'date': '2015-12-24', 'population': 17738987}}, 'Kenya', {'total_population': {'date': '2015-12-24', 'population': 46625666}}, 'Kiribati', {'total_population': {'date': '2015-12-24', 'population': 113375}}, 'Kuwait', {'total_population': {'date': '2015-12-24', 'population': 3950445}}, 'Kyrgyz%20Republic', {'total_population': {'date': '2015-12-24', 'population': 5985436}}, 'Lao%20PDR', {'total_population': {'date': '2015-12-24', 'population': 6857563}}, 'LATIN%20AMERICA%20AND%20THE%20CARIBBEAN', {'total_population': {'date': '2015-12-24', 'population': 637588744}}, 'Latvia', {'total_population': {'date': '2015-12-24', 'population': 1962895}}, 'Least%20developed%20countries', {'countries': ['Afghanistan', 'AFRICA', 'Albania', 'Algeria', 'Angola', 'Antigua and Barbuda', 'Arab Rep of Egypt', 'Argentina', 'Armenia', 'Aruba', 'ASIA', 'Australia', 'Australia/New Zealand', 'Austria', 'Azerbaijan', 'The Bahamas', 'Bahrain', 'Bangladesh', 'Barbados', 'Belarus', 'Belgium', 'Belize', 'Benin', 'Bhutan', 'Bolivia', 'Bosnia and Herzegovina', 'Botswana', 'Brazil', 'Brunei Darussalam', 'Bulgaria', 'Burkina Faso', 'Burundi', 'Cote-d-Ivoire', 'Cabo Verde', 'Cambodia', 'Cameroon', 'Canada', 'Caribbean', 'Central African Republic', 'Central America', 'Central Asia', 'Chad', 'Channel Islands', 'Chile', 'China', 'Hong Kong SAR-China', 'Macao SAR China', 'Colombia', 'Comoros', 'Congo', 'Costa Rica', 'Croatia', 'Cuba', 'Curacao', 'Cyprus', 'Czech Republic', 'Dem Peoples Rep of Korea', 'Dem Rep of Congo', 'Denmark', 'Djibouti', 'Dominican Republic', 'Eastern Africa', 'Eastern Asia', 'Eastern Europe', 'Ecuador', 'El Salvador', 'Equatorial Guinea', 'Eritrea', 'Estonia', 'Ethiopia', 'EUROPE', 'Federated States of Micronesia', 'Fiji', 'Finland', 'France', 'French Guiana', 'French Polynesia', 'FYR Macedonia', 'Gabon', 'The Gambia', 'Georgia', 'Germany', 'Ghana', 'Greece', 'Grenada', 'Guadeloupe', 'Guam', 'Guatemala', 'Guinea', 'Guinea-Bissau', 'Guyana', 'Haiti', 'Honduras', 'Hungary', 'Iceland', 'India', 'Indonesia', 'Islamic Republic of Iran', 'Iraq', 'Ireland', 'Israel', 'Italy', 'Jamaica', 'Japan', 'Jordan', 'Kazakhstan', 'Kenya', 'Kiribati', 'Kuwait', 'Kyrgyz Republic', 'Lao PDR', 'LATIN AMERICA AND THE CARIBBEAN', 'Latvia', 'Least developed countries', 'Lebanon', 'Lesotho', 'Less developed regions', 'Less developed regions, excluding China', 'Less developed regions, excluding least developed countries', 'Liberia', 'Libya', 'Lithuania', 'Luxembourg', 'Madagascar', 'Malawi', 'Malaysia', 'Maldives', 'Mali', 'Malta', 'Martinique', 'Mauritania', 'Mauritius', 'Mayotte', 'Melanesia', 'Mexico', 'Micronesia', 'Middle Africa', 'Moldova', 'Mongolia', 'Montenegro', 'More developed regions', 'Morocco', 'Mozambique', 'Myanmar', 'Namibia', 'Nepal', 'The Netherlands', 'New Caledonia', 'New Zealand', 'Nicaragua', 'Niger', 'Nigeria', 'Northern Africa', 'NORTHERN AMERICA', 'Northern Europe', 'Norway', 'OCEANIA', 'Oman', 'Other non-specified areas', 'Pakistan', 'Panama', 'Papua New Guinea', 'Paraguay', 'Peru', 'Philippines', 'Poland', 'Polynesia', 'Portugal', 'Puerto Rico', 'Qatar', 'Reunion', 'RB-de-Venezuela', 'Rep of Korea', 'Rep of Yemen', 'Romania', 'Russian Federation', 'Rwanda', 'St-Lucia', 'St-Vincent and the Grenadines', 'Samoa', 'Sao Tome and Principe', 'Saudi Arabia', 'Senegal', 'Serbia', 'Seychelles', 'Sierra Leone', 'Singapore', 'Slovak Republic', 'Slovenia', 'Solomon Islands', 'Somalia', 'South Africa', 'South America', 'South Sudan', 'South-Central Asia', 'South-Eastern Asia', 'Southern Africa', 'Southern Asia', 'Southern Europe', 'Spain', 'Sri Lanka', 'West Bank and Gaza', 'Sub-Saharan Africa', 'Sudan', 'Suriname', 'Swaziland', 'Sweden', 'Switzerland', 'Syrian Arab Rep', 'Tajikistan', 'Tanzania', 'Thailand', 'Timor-Leste', 'Togo', 'Tonga', 'Trinidad and Tobago', 'Tunisia', 'Turkey', 'Turkmenistan', 'Uganda', 'Ukraine', 'United Arab Emirates', 'United Kingdom', 'United States', 'US Virgin Islands', 'Uruguay', 'Uzbekistan', 'Vanuatu', 'Vietnam', 'Western Africa', 'Western Asia', 'Western Europe', 'Western Sahara', 'World', 'Zambia', 'Zimbabwe']}, 'Lebanon', {'total_population': {'date': '2015-12-24', 'population': 5928765}}, 'Lesotho', {'total_population': {'date': '2015-12-24', 'population': 2147225}}, 'Less%20developed%20regions', {'total_population': {'date': '2015-12-24', 'population': 6136602150}}, 'Less%20developed%20regions,%20excluding%20China', {'total_population': {'date': '2015-12-24', 'population': 4726197613}}, 'Less%20developed%20regions,%20excluding%20least%20developed%20countries', {'countries': ['Afghanistan', 'AFRICA', 'Albania', 'Algeria', 'Angola', 'Antigua and Barbuda', 'Arab Rep of Egypt', 'Argentina', 'Armenia', 'Aruba', 'ASIA', 'Australia', 'Australia/New Zealand', 'Austria', 'Azerbaijan', 'The Bahamas', 'Bahrain', 'Bangladesh', 'Barbados', 'Belarus', 'Belgium', 'Belize', 'Benin', 'Bhutan', 'Bolivia', 'Bosnia and Herzegovina', 'Botswana', 'Brazil', 'Brunei Darussalam', 'Bulgaria', 'Burkina Faso', 'Burundi', 'Cote-d-Ivoire', 'Cabo Verde', 'Cambodia', 'Cameroon', 'Canada', 'Caribbean', 'Central African Republic', 'Central America', 'Central Asia', 'Chad', 'Channel Islands', 'Chile', 'China', 'Hong Kong SAR-China', 'Macao SAR China', 'Colombia', 'Comoros', 'Congo', 'Costa Rica', 'Croatia', 'Cuba', 'Curacao', 'Cyprus', 'Czech Republic', 'Dem Peoples Rep of Korea', 'Dem Rep of Congo', 'Denmark', 'Djibouti', 'Dominican Republic', 'Eastern Africa', 'Eastern Asia', 'Eastern Europe', 'Ecuador', 'El Salvador', 'Equatorial Guinea', 'Eritrea', 'Estonia', 'Ethiopia', 'EUROPE', 'Federated States of Micronesia', 'Fiji', 'Finland', 'France', 'French Guiana', 'French Polynesia', 'FYR Macedonia', 'Gabon', 'The Gambia', 'Georgia', 'Germany', 'Ghana', 'Greece', 'Grenada', 'Guadeloupe', 'Guam', 'Guatemala', 'Guinea', 'Guinea-Bissau', 'Guyana', 'Haiti', 'Honduras', 'Hungary', 'Iceland', 'India', 'Indonesia', 'Islamic Republic of Iran', 'Iraq', 'Ireland', 'Israel', 'Italy', 'Jamaica', 'Japan', 'Jordan', 'Kazakhstan', 'Kenya', 'Kiribati', 'Kuwait', 'Kyrgyz Republic', 'Lao PDR', 'LATIN AMERICA AND THE CARIBBEAN', 'Latvia', 'Least developed countries', 'Lebanon', 'Lesotho', 'Less developed regions', 'Less developed regions, excluding China', 'Less developed regions, excluding least developed countries', 'Liberia', 'Libya', 'Lithuania', 'Luxembourg', 'Madagascar', 'Malawi', 'Malaysia', 'Maldives', 'Mali', 'Malta', 'Martinique', 'Mauritania', 'Mauritius', 'Mayotte', 'Melanesia', 'Mexico', 'Micronesia', 'Middle Africa', 'Moldova', 'Mongolia', 'Montenegro', 'More developed regions', 'Morocco', 'Mozambique', 'Myanmar', 'Namibia', 'Nepal', 'The Netherlands', 'New Caledonia', 'New Zealand', 'Nicaragua', 'Niger', 'Nigeria', 'Northern Africa', 'NORTHERN AMERICA', 'Northern Europe', 'Norway', 'OCEANIA', 'Oman', 'Other non-specified areas', 'Pakistan', 'Panama', 'Papua New Guinea', 'Paraguay', 'Peru', 'Philippines', 'Poland', 'Polynesia', 'Portugal', 'Puerto Rico', 'Qatar', 'Reunion', 'RB-de-Venezuela', 'Rep of Korea', 'Rep of Yemen', 'Romania', 'Russian Federation', 'Rwanda', 'St-Lucia', 'St-Vincent and the Grenadines', 'Samoa', 'Sao Tome and Principe', 'Saudi Arabia', 'Senegal', 'Serbia', 'Seychelles', 'Sierra Leone', 'Singapore', 'Slovak Republic', 'Slovenia', 'Solomon Islands', 'Somalia', 'South Africa', 'South America', 'South Sudan', 'South-Central Asia', 'South-Eastern Asia', 'Southern Africa', 'Southern Asia', 'Southern Europe', 'Spain', 'Sri Lanka', 'West Bank and Gaza', 'Sub-Saharan Africa', 'Sudan', 'Suriname', 'Swaziland', 'Sweden', 'Switzerland', 'Syrian Arab Rep', 'Tajikistan', 'Tanzania', 'Thailand', 'Timor-Leste', 'Togo', 'Tonga', 'Trinidad and Tobago', 'Tunisia', 'Turkey', 'Turkmenistan', 'Uganda', 'Ukraine', 'United Arab Emirates', 'United Kingdom', 'United States', 'US Virgin Islands', 'Uruguay', 'Uzbekistan', 'Vanuatu', 'Vietnam', 'Western Africa', 'Western Asia', 'Western Europe', 'Western Sahara', 'World', 'Zambia', 'Zimbabwe']}, 'Liberia', {'total_population': {'date': '2015-12-24', 'population': 4556608}}, 'Libya', {'total_population': {'date': '2015-12-24', 'population': 6299535}}, 'Lithuania', {'total_population': {'date': '2015-12-24', 'population': 2863508}}, 'Luxembourg', {'total_population': {'date': '2015-12-24', 'population': 571666}}, 'Madagascar', {'total_population': {'date': '2015-12-24', 'population': 24560049}}, 'Malawi', {'total_population': {'date': '2015-12-24', 'population': 17470265}}, 'Malaysia', {'total_population': {'date': '2015-12-24', 'population': 30533933}}, 'Maldives', {'total_population': {'date': '2015-12-24', 'population': 366629}}, 'Mali', {'total_population': {'date': '2015-12-24', 'population': 17854109}}, 'Malta', {'total_population': {'date': '2015-12-24', 'population': 419125}}, 'Martinique', {'total_population': {'date': '2015-12-24', 'population': 396418}}, 'Mauritania', {'total_population': {'date': '2015-12-24', 'population': 4114951}}, 'Mauritius', {'total_population': {'date': '2015-12-24', 'population': 1275294}}, 'Mayotte', {'total_population': {'date': '2015-12-24', 'population': 243120}}, 'Melanesia', {'total_population': {'date': '2015-12-24', 'population': 9710557}}, 'Mexico', {'total_population': {'date': '2015-12-24', 'population': 127795440}}, 'Micronesia', {'total_population': {'date': '2015-12-24', 'population': 528937}}, 'Middle%20Africa', {'total_population': {'date': '2015-12-24', 'population': 154141951}}, 'Moldova', {'total_population': {'date': '2015-12-24', 'population': 4066179}}, 'Mongolia', {'total_population': {'date': '2015-12-24', 'population': 2982152}}, 'Montenegro', {'total_population': {'date': '2015-12-24', 'population': 625960}}, 'More%20developed%20regions', {'total_population': {'date': '2015-12-24', 'population': 1252889532}}, 'Morocco', {'total_population': {'date': '2015-12-24', 'population': 34590992}}, 'Mozambique', {'total_population': {'date': '2015-12-24', 'population': 28347770}}, 'Myanmar', {'total_population': {'date': '2015-12-24', 'population': 54120398}}, 'Namibia', {'total_population': {'date': '2015-12-24', 'population': 2485416}}, 'Nepal', {'total_population': {'date': '2015-12-24', 'population': 28675893}}, 'The%20Netherlands', {'total_population': {'date': '2015-12-24', 'population': 16951312}}, 'New%20Caledonia', {'total_population': {'date': '2015-12-24', 'population': 264711}}, 'New%20Zealand', {'total_population': {'date': '2015-12-24', 'population': 4545819}}, 'Nicaragua', {'total_population': {'date': '2015-12-24', 'population': 6116733}}, 'Niger', {'total_population': {'date': '2015-12-24', 'population': 20289001}}, 'Nigeria', {'total_population': {'date': '2015-12-24', 'population': 184490067}}, 'Northern%20Africa', {'total_population': {'date': '2015-12-24', 'population': 225886188}}, 'NORTHERN%20AMERICA', {'total_population': {'date': '2015-12-24', 'population': 359129759}}, 'Northern%20Europe', {'total_population': {'date': '2015-12-24', 'population': 102623231}}, 'Norway', {'total_population': {'date': '2015-12-24', 'population': 5240639}}, 'OCEANIA', {'total_population': {'date': '2015-12-24', 'population': 39604640}}, 'Oman', {'total_population': {'date': '2015-12-24', 'population': 4579091}}, 'Other%20non-specified%20areas', {'total_population': {'date': '2015-12-24', 'population': 23386866}}, 'Pakistan', {'total_population': {'date': '2015-12-24', 'population': 190797237}}, 'Panama', {'total_population': {'date': '2015-12-24', 'population': 3958946}}, 'Papua%20New%20Guinea', {'total_population': {'date': '2015-12-24', 'population': 7697386}}, 'Paraguay', {'total_population': {'date': '2015-12-24', 'population': 6677987}}, 'Peru', {'total_population': {'date': '2015-12-24', 'population': 31565456}}, 'Philippines', {'total_population': {'date': '2015-12-24', 'population': 101442980}}, 'Poland', {'total_population': {'date': '2015-12-24', 'population': 38605441}}, 'Polynesia', {'total_population': {'date': '2015-12-24', 'population': 686822}}, 'Portugal', {'total_population': {'date': '2015-12-24', 'population': 10327602}}, 'Puerto%20Rico', {'total_population': {'date': '2015-12-24', 'population': 3681685}}, 'Qatar', {'total_population': {'date': '2015-12-24', 'population': 2263724}}, 'Reunion', {'total_population': {'date': '2015-12-24', 'population': 863817}}, 'RB-de-Venezuela', {'total_population': {'date': '2015-12-24', 'population': 31303932}}, 'Rep%20of%20Korea', {'total_population': {'date': '2015-12-24', 'population': 50397481}}, 'Rep%20of%20Yemen', {'total_population': {'date': '2015-12-24', 'population': 27142375}}, 'Romania', {'total_population': {'date': '2015-12-24', 'population': 19440636}}, 'Russian%20Federation', {'total_population': {'date': '2015-12-24', 'population': 143455613}}, 'Rwanda', {'total_population': {'date': '2015-12-24', 'population': 11739187}}, 'St-Lucia', {'total_population': {'date': '2015-12-24', 'population': 185633}}, 'St-Vincent%20and%20the%20Grenadines', {'total_population': {'date': '2015-12-24', 'population': 109529}}, 'Samoa', {'total_population': {'date': '2015-12-24', 'population': 193893}}, 'Sao%20Tome%20and%20Principe', {'total_population': {'date': '2015-12-24', 'population': 192283}}, 'Saudi%20Arabia', {'total_population': {'date': '2015-12-24', 'population': 31842909}}, 'Senegal', {'total_population': {'date': '2015-12-24', 'population': 15347583}}, 'Serbia', {'total_population': {'date': '2015-12-24', 'population': 8831406}}, 'Seychelles', {'total_population': {'date': '2015-12-24', 'population': 96737}}, 'Sierra%20Leone', {'total_population': {'date': '2015-12-24', 'population': 6519371}}, 'Singapore', {'total_population': {'date': '2015-12-24', 'population': 5648838}}, 'Slovak%20Republic', {'total_population': {'date': '2015-12-24', 'population': 5427720}}, 'Slovenia', {'total_population': {'date': '2015-12-24', 'population': 2068441}}, 'Solomon%20Islands', {'total_population': {'date': '2015-12-24', 'population': 589275}}, 'Somalia', {'total_population': {'date': '2015-12-24', 'population': 10923183}}, 'South%20Africa', {'total_population': {'date': '2015-12-24', 'population': 54729428}}, 'South%20America', {'total_population': {'date': '2015-12-24', 'population': 420422162}}, 'South%20Sudan', {'total_population': {'date': '2015-12-24', 'population': 12533286}}, 'South-Central%20Asia', {'total_population': {'date': '2015-12-24', 'population': 1902212200}}, 'South-Eastern%20Asia', {'total_population': {'date': '2015-12-24', 'population': 636932209}}, 'Southern%20Africa', {'total_population': {'date': '2015-12-24', 'population': 62939290}}, 'Southern%20Asia', {'total_population': {'date': '2015-12-24', 'population': 1834427427}}, 'Southern%20Europe', {'total_population': {'date': '2015-12-24', 'population': 152242793}}, 'Spain', {'total_population': {'date': '2015-12-24', 'population': 46081943}}, 'Sri%20Lanka', {'total_population': {'date': '2015-12-24', 'population': 20762189}}, 'West%20Bank%20and%20Gaza', {'total_population': {'date': '2015-12-24', 'population': 4728947}}, 'Sub-Saharan%20Africa', {'total_population': {'date': '2015-12-24', 'population': 974625146}}, 'Sudan', {'total_population': {'date': '2015-12-24', 'population': 40681384}}, 'Suriname', {'total_population': {'date': '2015-12-24', 'population': 545166}}, 'Swaziland', {'total_population': {'date': '2015-12-24', 'population': 1295135}}, 'Sweden', {'total_population': {'date': '2015-12-24', 'population': 9815802}}, 'Switzerland', {'total_population': {'date': '2015-12-24', 'population': 8338872}}, 'Syrian%20Arab%20Rep', {'total_population': {'date': '2015-12-24', 'population': 18497351}}, 'Tajikistan', {'total_population': {'date': '2015-12-24', 'population': 8571296}}, 'Tanzania', {'total_population': {'date': '2015-12-24', 'population': 54272427}}, 'Thailand', {'total_population': {'date': '2015-12-24', 'population': 68055027}}, 'Timor-Leste', {'total_population': {'date': '2015-12-24', 'population': 1197703}}, 'Togo', {'total_population': {'date': '2015-12-24', 'population': 7395665}}, 'Tonga', {'total_population': {'date': '2015-12-24', 'population': 106501}}, 'Trinidad%20and%20Tobago', {'total_population': {'date': '2015-12-24', 'population': 1362557}}, 'Tunisia', {'total_population': {'date': '2015-12-24', 'population': 11311917}}, 'Turkey', {'total_population': {'date': '2015-12-24', 'population': 79149740}}, 'Turkmenistan', {'total_population': {'date': '2015-12-24', 'population': 5404300}}, 'Uganda', {'total_population': {'date': '2015-12-24', 'population': 39643502}}, 'Ukraine', {'total_population': {'date': '2015-12-24', 'population': 44733408}}, 'United%20Arab%20Emirates', {'total_population': {'date': '2015-12-24', 'population': 9203297}}, 'United%20Kingdom', {'total_population': {'date': '2015-12-24', 'population': 64903068}}, 'United%20States', {'total_population': {'date': '2015-12-24', 'population': 322896778}}, 'US%20Virgin%20Islands', {'total_population': {'date': '2015-12-24', 'population': 106364}}, 'Uruguay', {'total_population': {'date': '2015-12-24', 'population': 3437976}}, 'Uzbekistan', {'total_population': {'date': '2015-12-24', 'population': 30093039}}, 'Vanuatu', {'total_population': {'date': '2015-12-24', 'population': 267441}}, 'Vietnam', {'total_population': {'date': '2015-12-24', 'population': 93931376}}, 'Western%20Africa', {'total_population': {'date': '2015-12-24', 'population': 357805852}}, 'Western%20Asia', {'total_population': {'date': '2015-12-24', 'population': 259427104}}, 'Western%20Europe', {'total_population': {'date': '2015-12-24', 'population': 191040254}}, 'Western%20Sahara', {'total_population': {'date': '2015-12-24', 'population': 578121}}, 'World', {'total_population': {'date': '2015-12-24', 'population': 7389490092}}, 'Zambia', {'total_population': {'date': '2015-12-24', 'population': 16451098}}, 'Zimbabwe', {'total_population': {'date': '2015-12-24', 'population': 15777549}}]\n"
     ]
    }
   ],
   "source": [
    "date = '/2015-12-24'\n",
    "country = 'AFRICA/'\n",
    "url = \"http://api.population.io:80/1.0/population/\"\n",
    "#with urllib.request.urlopen(url + country + date) as url:\n",
    "   # data = json.loads(url.read().decode())\n",
    "   # print(data)\n",
    "   # print(data['total_population']['population'])\n",
    "    \n",
    "countryInfo =[]\n",
    "countries_all=[]\n",
    "    \n",
    "for i in cleancountry:\n",
    "    j = i.replace(\" \", \"%20\")\n",
    "   \n",
    "    \n",
    "    countries_all.append(j)\n",
    "    \n",
    "\n",
    "\n",
    "for fetchCountry in countries_all:\n",
    "    url = \"http://api.population.io:80/1.0/population/\"\n",
    "\n",
    "    with urllib.request.urlopen(url + fetchCountry + date) as url:\n",
    "        data = json.loads(url.read().decode())\n",
    "      \n",
    "        countryInfo.append(fetchCountry)\n",
    "        countryInfo.append(data)\n",
    "print(countryInfo)\n",
    "    \n",
    "    \n",
    "  "
   ]
  },
  {
   "cell_type": "code",
   "execution_count": 136,
   "metadata": {},
   "outputs": [
    {
     "name": "stdout",
     "output_type": "stream",
     "text": [
      "{'Afghanistan': 'AF', 'AFRICA': 'AL', 'Albania': 'DZ', 'Algeria': 'AO', 'Angola': 'AG', 'Antigua%20and%20Barbuda': 'AR', 'Arab%20Rep%20of%20Egypt': 'AM', 'Argentina': 'AW', 'Armenia': 'AU', 'Aruba': 'AT', 'ASIA': 'AZ', 'Australia': 'BH', 'Austria': 'BD', 'Azerbaijan': 'BB', 'The%20Bahamas': 'BY', 'Bahrain': 'BE', 'Bangladesh': 'BZ', 'Barbados': 'BJ', 'Belarus': 'BT', 'Belgium': 'BA', 'Belize': 'BW', 'Benin': 'BR', 'Bhutan': 'BN', 'Bolivia': 'BG', 'Bosnia%20and%20Herzegovina': 'BF', 'Botswana': 'BI', 'Brazil': 'KH', 'Brunei%20Darussalam': 'CM', 'Bulgaria': 'CA', 'Burkina%20Faso': 'CF', 'Burundi': 'TD', 'Cote-d-Ivoire': 'CL', 'Cabo%20Verde': 'CN', 'Cambodia': 'CO', 'Cameroon': 'KM', 'Canada': 'CG', 'Caribbean': 'CR', 'Central%20African%20Republic': 'HR', 'Central%20America': 'CU', 'Central%20Asia': 'CY', 'Chad': 'CZ', 'Channel%20Islands': 'DK', 'Chile': 'DJ', 'China': 'DO', 'Hong%20Kong%20SAR-China': 'EC', 'Macao%20SAR%20China': 'SV', 'Colombia': 'GQ', 'Comoros': 'ER', 'Congo': 'EE', 'Costa%20Rica': 'ET', 'Croatia': 'FJ', 'Cuba': 'FI', 'Curacao': 'FR', 'Cyprus': 'GF', 'Czech%20Republic': 'PF', 'Dem%20Peoples%20Rep%20of%20Korea': 'GA', 'Dem%20Rep%20of%20Congo': 'GE', 'Denmark': 'DE', 'Djibouti': 'GH', 'Dominican%20Republic': 'GR', 'Eastern%20Africa': 'GD', 'Eastern%20Asia': 'GP', 'Eastern%20Europe': 'GU', 'Ecuador': 'GT', 'El%20Salvador': 'GN', 'Equatorial%20Guinea': 'GW', 'Eritrea': 'GY', 'Estonia': 'HT', 'Ethiopia': 'HN', 'EUROPE': 'HU', 'Federated%20States%20of%20Micronesia': 'IS', 'Fiji': 'IN', 'Finland': 'ID', 'France': 'IQ', 'French%20Guiana': 'IE', 'French%20Polynesia': 'IL', 'FYR%20Macedonia': 'IT', 'Gabon': 'JM', 'The%20Gambia': 'JP', 'Georgia': 'JO', 'Germany': 'KZ', 'Ghana': 'KE', 'Greece': 'KI', 'Grenada': 'KW', 'Guadeloupe': 'LV', 'Guam': 'LB', 'Guatemala': 'LS', 'Guinea': 'LR', 'Guinea-Bissau': 'LY', 'Guyana': 'LT', 'Haiti': 'LU', 'Honduras': 'MG', 'Hungary': 'MW', 'Iceland': 'MY', 'India': 'MV', 'Indonesia': 'ML', 'Islamic%20Republic%20of%20Iran': 'MT', 'Iraq': 'MQ', 'Ireland': 'MR', 'Israel': 'MU', 'Italy': 'YT', 'Jamaica': 'MX', 'Japan': 'MN', 'Jordan': 'ME', 'Kazakhstan': 'MA', 'Kenya': 'MZ', 'Kiribati': 'MM', 'Kuwait': 'NA', 'Kyrgyz%20Republic': 'NP', 'Lao%20PDR': 'NC', 'LATIN%20AMERICA%20AND%20THE%20CARIBBEAN': 'NZ', 'Latvia': 'NI', 'Least%20developed%20countries': 'NE', 'Lebanon': 'NG', 'Lesotho': 'NO', 'Less%20developed%20regions': 'OM', 'Less%20developed%20regions,%20excluding%20China': 'PK', 'Less%20developed%20regions,%20excluding%20least%20developed%20countries': 'PA', 'Liberia': 'PG', 'Libya': 'PY', 'Lithuania': 'PE', 'Luxembourg': 'PH', 'Madagascar': 'PL', 'Malawi': 'PT', 'Malaysia': 'PR', 'Maldives': 'QA', 'Mali': 'RO', 'Malta': 'RU', 'Martinique': 'RW', 'Mauritania': 'WS', 'Mauritius': 'ST', 'Mayotte': 'SA', 'Melanesia': 'SN', 'Mexico': 'RS', 'Micronesia': 'SC', 'Middle%20Africa': 'SL', 'Moldova': 'SG', 'Mongolia': 'SI', 'Montenegro': 'SB', 'More%20developed%20regions': 'SO', 'Morocco': 'ZA', 'Mozambique': 'SS', 'Myanmar': 'ES', 'Namibia': 'LK', 'Nepal': 'SD', 'The%20Netherlands': 'SR', 'New%20Caledonia': 'SZ', 'New%20Zealand': 'SE', 'Nicaragua': 'CH', 'Niger': 'TJ', 'Nigeria': 'TH', 'Northern%20Africa': 'TL', 'NORTHERN%20AMERICA': 'TG', 'Northern%20Europe': 'TO', 'Norway': 'TT', 'OCEANIA': 'TN', 'Oman': 'TR', 'Other%20non-specified%20areas': 'TM', 'Pakistan': 'UG', 'Panama': 'UA', 'Papua%20New%20Guinea': 'AE', 'Paraguay': 'GB', 'Peru': 'US', 'Philippines': 'UY', 'Poland': 'UZ', 'Polynesia': 'VU', 'Portugal': 'EH', 'Puerto%20Rico': 'ZM', 'Qatar': 'ZW'}\n"
     ]
    },
    {
     "data": {
      "text/plain": [
       "169"
      ]
     },
     "execution_count": 136,
     "metadata": {},
     "output_type": "execute_result"
    }
   ],
   "source": [
    "\n",
    "countrycodes_clean = []\n",
    "\n",
    "for word in countryCodes:\n",
    "        if 'Unknown code' not in word:\n",
    "            countrycodes_clean.append(word)\n",
    "#len(country_dictionary_clean)\n",
    "#print(country_dictionary_clean)\n",
    "keys = countries_all\n",
    "values = countrycodes_clean\n",
    "country_dictionary = dict(zip(keys, values))\n",
    "print(country_dictionary)\n",
    "len(country_dictionary)\n",
    "\n",
    "\n",
    "\n",
    "\n"
   ]
  },
  {
   "cell_type": "code",
   "execution_count": null,
   "metadata": {},
   "outputs": [],
   "source": []
  },
  {
   "cell_type": "code",
   "execution_count": null,
   "metadata": {},
   "outputs": [],
   "source": []
  },
  {
   "cell_type": "code",
   "execution_count": null,
   "metadata": {},
   "outputs": [],
   "source": []
  }
 ],
 "metadata": {
  "kernelspec": {
   "display_name": "Python 3",
   "language": "python",
   "name": "python3"
  },
  "language_info": {
   "codemirror_mode": {
    "name": "ipython",
    "version": 3
   },
   "file_extension": ".py",
   "mimetype": "text/x-python",
   "name": "python",
   "nbconvert_exporter": "python",
   "pygments_lexer": "ipython3",
   "version": "3.6.4"
  }
 },
 "nbformat": 4,
 "nbformat_minor": 2
}
